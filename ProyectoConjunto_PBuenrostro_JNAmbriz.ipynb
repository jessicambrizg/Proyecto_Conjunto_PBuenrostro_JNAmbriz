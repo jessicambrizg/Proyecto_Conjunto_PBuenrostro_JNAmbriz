{
 "cells": [
  {
   "cell_type": "markdown",
   "metadata": {},
   "source": [
    "## _Expectativas del curso_ "
   ]
  },
  {
   "cell_type": "markdown",
   "metadata": {},
   "source": [
    "+ Aprender un nuevo sistema de programación.\n",
    "+ Dominar el manejo de GitKraken, ya que no lo había llevado a profundidad.\n",
    "+ Ser más ágil en la programación.\n",
    "+ Que la clase no se me dificulte como me han dicho que lo es.\n",
    "\n"
   ]
  },
  {
   "cell_type": "markdown",
   "metadata": {},
   "source": [
    "<img style=\"center\" src=\"https://programacion.net/files/article/20160603020635_python-logo.png\" width=\"250px\" height=\"200px\" alt=\"atom\" />"
   ]
  },
  {
   "cell_type": "markdown",
   "metadata": {},
   "source": [
    "## <font color=\"green\">*Python is becoming the world’s most popular coding language*</font>"
   ]
  },
  {
   "cell_type": "markdown",
   "metadata": {},
   "source": [
    "*Python fue creado en 1989*, casi 3 décadas después a derrivado a todos sus rivales.\n",
    "Las dos ventajas principales del lenguaje son su simplicidad y flexibilidad. Su sintaxis directa y el uso de espacios sangrados hacen que sea fácil de aprender, leer y compartir."
   ]
  },
  {
   "cell_type": "markdown",
   "metadata": {},
   "source": [
    "A pesar de ser un programa realmente fuerte, no piensa dejar fuera a ningún software.\n",
    "Python no reemplazará C y C ++, que son \"opciones de nivel inferior\" que dan más control sobre lo que está sucediendo en el procesador de una computadora. Tampoco quiere eliminar a Java, que es popular para crear aplicaciones complicadas, o JavaScript, que alimenta la mayoría de las páginas web."
   ]
  },
  {
   "cell_type": "markdown",
   "metadata": {},
   "source": [
    "En lo personal, python no es realmente fácil, pero gracias a mis profesores he logrado llevarlo acabo."
   ]
  },
  {
   "cell_type": "markdown",
   "metadata": {},
   "source": [
    "<img style=\"center\" src=\"https://www.economist.com/img/b/1280/1401/85/sites/default/files/20180728_WOC883.png\" width=\"400px\" height=\"400px\" alt=\"atom\" />"
   ]
  },
  {
   "cell_type": "markdown",
   "metadata": {},
   "source": [
    "<img style=\"center\" src=\"https://www.tecnoinver.cl/wp-content/uploads/2015/08/Prog-languages.png\" width=\"400px\" height=\"400px\" alt=\"atom\" />"
   ]
  },
  {
   "cell_type": "markdown",
   "metadata": {},
   "source": [
    "# ------------------------------------------------------#"
   ]
  },
  {
   "cell_type": "markdown",
   "metadata": {},
   "source": [
    "# <span style=\"color:red\">Tarea 1.</span> #\n",
    "## <span style=\"color:pink\">Jessica Ambriz Gaona</span> ##\n",
    "## Simulación de Procesos Financieros ##"
   ]
  },
  {
   "cell_type": "markdown",
   "metadata": {},
   "source": [
    "<img src=https://desi.iteso.mx/erayas/images/Logo_Horizontal.jpg>"
   ]
  },
  {
   "cell_type": "markdown",
   "metadata": {},
   "source": [
    "***Hablaremos un poco sobre el artículo de El Economista titulado \"Python has brought computer programming to a vast new audience\".***"
   ]
  },
  {
   "cell_type": "markdown",
   "metadata": {},
   "source": [
    "https://www.economist.com/science-and-technology/2018/07/19/python-has-brought-computer-programming-to-a-vast-new-audience"
   ]
  },
  {
   "cell_type": "markdown",
   "metadata": {},
   "source": [
    "Este artículo nos habla sobre el comienzo de Python y las bases que utilizó Guido van Rossum para la creación del programa tan exitoso que es ahora. La primera base fue que tenía que ser fácil de leer, segundo que los usuarios pudieran hacer sus propias librerías para que después los demás pudieran usarla y el tercero que quería que tuviera un nombre corto, original y misterioso. \n",
    "Menciona que jamás creyó que sería un programa tan famoso."
   ]
  },
  {
   "cell_type": "markdown",
   "metadata": {},
   "source": [
    "Algunos de los beneficios son:\n",
    "+ Uso fácil\n",
    "+ Universal\n",
    "+ Flexibilidad\n",
    "+ Muy completo"
   ]
  },
  {
   "cell_type": "markdown",
   "metadata": {},
   "source": [
    "<span style=\"color:green\">Algunas preguntas frecuentes sobre **Python**:</span>\n",
    "1. **¿Qué es Python?**\n",
    "Es un lenguage de programación bastante sencillo en comparación a los demas, en pocas palabras eso es.\n",
    "\n",
    "2. **¿Python es gratis?**\n",
    "Si! Todos pueden descargarlo de forma gratuita."
   ]
  }
 ],
 "metadata": {
  "kernelspec": {
   "display_name": "Python 3",
   "language": "python",
   "name": "python3"
  },
  "language_info": {
   "codemirror_mode": {
    "name": "ipython",
    "version": 3
   },
   "file_extension": ".py",
   "mimetype": "text/x-python",
   "name": "python",
   "nbconvert_exporter": "python",
   "pygments_lexer": "ipython3",
   "version": "3.7.1"
  }
 },
 "nbformat": 4,
 "nbformat_minor": 2
}

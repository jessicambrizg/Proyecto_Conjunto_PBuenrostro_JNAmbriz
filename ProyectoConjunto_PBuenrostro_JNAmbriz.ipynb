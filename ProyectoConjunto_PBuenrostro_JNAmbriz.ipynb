{
 "cells": [
  {
   "cell_type": "markdown",
   "metadata": {},
   "source": [
    "<img style=\"float: left; margin: 30px 15px 15px 15px;\" src=\"https://pngimage.net/wp-content/uploads/2018/06/logo-iteso-png-5.png\" width=\"300\" height=\"500\" /> \n",
    "    \n",
    "    \n",
    "### <font color='navy'> Simulación de procesos financieros. \n",
    "\n",
    "**Nombres:** Patricia Buenrostro Mendez y Jessica Nailea Ambriz Gaona.\n",
    "\n",
    "**Fecha:** 30 de enero del 2020.\n",
    "\n",
    "**Expediente** : IF715066 y IF717945.\n",
    "**Profesor:** Oscar David Jaramillo Zuluaga.\n",
    "\n",
    "# Tarea 1: Clase 3"
   ]
  },
  {
   "cell_type": "markdown",
   "metadata": {},
   "source": [
    "## Estudiante 1: Patricia Buenrostro Mendez creó el repositorio y el github es: patybume10"
   ]
  },
  {
   "cell_type": "markdown",
   "metadata": {},
   "source": [
    "## _Expectativas del curso_ "
   ]
  },
  {
   "cell_type": "markdown",
   "metadata": {},
   "source": [
    "+ Aprender un nuevo sistema de programación.\n",
    "+ Dominar el manejo de GitKraken, ya que no lo había llevado a profundidad.\n",
    "+ Ser más ágil en la programación.\n",
    "+ Que la clase no se me dificulte como me han dicho que lo es.\n",
    "\n"
   ]
  },
  {
   "cell_type": "markdown",
   "metadata": {},
   "source": [
    "<img style=\"center\" src=\"https://programacion.net/files/article/20160603020635_python-logo.png\" width=\"250px\" height=\"200px\" alt=\"atom\" />"
   ]
  },
  {
   "cell_type": "markdown",
   "metadata": {},
   "source": [
    "## <font color=\"green\">*Python is becoming the world’s most popular coding language*</font>"
   ]
  },
  {
   "cell_type": "markdown",
   "metadata": {},
   "source": [
    "*Python fue creado en 1989*, casi 3 décadas después a derrivado a todos sus rivales.\n",
    "Las dos ventajas principales del lenguaje son su simplicidad y flexibilidad. Su sintaxis directa y el uso de espacios sangrados hacen que sea fácil de aprender, leer y compartir."
   ]
  },
  {
   "cell_type": "markdown",
   "metadata": {},
   "source": [
    "A pesar de ser un programa realmente fuerte, no piensa dejar fuera a ningún software.\n",
    "Python no reemplazará C y C ++, que son \"opciones de nivel inferior\" que dan más control sobre lo que está sucediendo en el procesador de una computadora. Tampoco quiere eliminar a Java, que es popular para crear aplicaciones complicadas, o JavaScript, que alimenta la mayoría de las páginas web."
   ]
  },
  {
   "cell_type": "markdown",
   "metadata": {},
   "source": [
    "En lo personal, python no es realmente fácil, pero gracias a mis profesores he logrado llevarlo acabo."
   ]
  },
  {
   "cell_type": "markdown",
   "metadata": {},
   "source": [
    "<img style=\"center\" src=\"https://www.economist.com/img/b/1280/1401/85/sites/default/files/20180728_WOC883.png\" width=\"400px\" height=\"400px\" alt=\"atom\" />"
   ]
  },
  {
   "cell_type": "markdown",
   "metadata": {},
   "source": [
    "<img style=\"center\" src=\"https://www.tecnoinver.cl/wp-content/uploads/2015/08/Prog-languages.png\" width=\"400px\" height=\"400px\" alt=\"atom\" />"
   ]
  },
  {
   "cell_type": "markdown",
   "metadata": {},
   "source": [
    "| 7-9  | Análisis del Riesgo | Estocástico            | Finanzas Públicas | Análisis del Riesgo    | Estocástico        |\n",
    "|------|---------------------|------------------------|-------------------|------------------------|--------------------|\n",
    "| 9-11 |                     |                        | Pobreza y Marg.   |                        | Finanzas  Públicas |\n",
    "| 4-6  | Teoría de  Juegos   | Portafolios            | Teoría de  Juegos |                        | Portafolios        |\n",
    "| 6-8  |                     | Simulación de Procesos |                   | Simulación de Procesos |                    |"
   ]
  },
  {
   "cell_type": "markdown",
   "metadata": {},
   "source": [
    "# ------------------------------------------------------#"
   ]
  },
  {
   "cell_type": "markdown",
   "metadata": {},
   "source": [
    "# <span style=\"color:red\">Tarea 1.</span> #\n",
    "## <span style=\"color:pink\">Jessica Ambriz Gaona</span> ##\n",
    "## Simulación de Procesos Financieros ##"
   ]
  },
  {
   "cell_type": "markdown",
   "metadata": {},
   "source": [
    "<img src=https://desi.iteso.mx/erayas/images/Logo_Horizontal.jpg>"
   ]
  },
  {
   "cell_type": "markdown",
   "metadata": {},
   "source": [
    "***Hablaremos un poco sobre el artículo de El Economista titulado \"Python has brought computer programming to a vast new audience\".***"
   ]
  },
  {
   "cell_type": "markdown",
   "metadata": {},
   "source": [
    "https://www.economist.com/science-and-technology/2018/07/19/python-has-brought-computer-programming-to-a-vast-new-audience"
   ]
  },
  {
   "cell_type": "markdown",
   "metadata": {},
   "source": [
    "Este artículo nos habla sobre el comienzo de Python y las bases que utilizó Guido van Rossum para la creación del programa tan exitoso que es ahora. La primera base fue que tenía que ser fácil de leer, segundo que los usuarios pudieran hacer sus propias librerías para que después los demás pudieran usarla y el tercero que quería que tuviera un nombre corto, original y misterioso. \n",
    "Menciona que jamás creyó que sería un programa tan famoso."
   ]
  },
  {
   "cell_type": "markdown",
   "metadata": {},
   "source": [
    "Algunos de los beneficios son:\n",
    "+ Uso fácil\n",
    "+ Universal\n",
    "+ Flexibilidad\n",
    "+ Muy completo"
   ]
  },
  {
   "cell_type": "markdown",
   "metadata": {},
   "source": [
    "<span style=\"color:green\">Algunas preguntas frecuentes sobre **Python**:</span>\n",
    "1. **¿Qué es Python?**\n",
    "Es un lenguage de programación bastante sencillo en comparación a los demas, en pocas palabras eso es.\n",
    "\n",
    "2. **¿Python es gratis?**\n",
    "Si! Todos pueden descargarlo de forma gratuita."
   ]
  },
  {
   "cell_type": "markdown",
   "metadata": {},
   "source": [
    "## Estudiante 1: Paty"
   ]
  },
  {
   "cell_type": "markdown",
   "metadata": {},
   "source": [
    "1. La fórmula el rectángulo se obtiene al interpolar a f(x) por medio del polinomio constante $ p_0(x) = f(\\displaystyle{a+b\\over2}). $\n",
    "$$\n",
    "\\int_ {a}^{b} f(x) dx \\approx (b - a)f(\\displaystyle{a+b\\over2}) = R(f)\n",
    "$$"
   ]
  },
  {
   "cell_type": "markdown",
   "metadata": {},
   "source": [
    "2. La fórmula del trapecio se obtiene al interpolar a f por medio de un polinomio lineal $ p_1(x) = \\alpha x + \\beta $ que satisfaga $ f(a) = p_1(a), f(b) = p_1(b). $\n",
    "Determinar el polinomio lineal es equivalente a resolver un sistema de ecuaciones lineales para $\\alpha$ y $\\beta$ cuya solución es \n",
    "\n",
    "$$\n",
    "\\alpha = \\displaystyle{f(b)-f(a)\\over b-a} \\quad \\beta = \\displaystyle{f(b)a-f(a)b\\over b-a}\n",
    "$$"
   ]
  },
  {
   "cell_type": "markdown",
   "metadata": {},
   "source": [
    "Al integrar $ p_1(x) $ en el intervalo $[a,b]$ se obtiene la regla del trapecio con $ h = b - a $\n",
    "$$\n",
    "\\int_ {a}^{b} f(x) dx \\approx \\int_ {a}^{b} p_1(x) dx = \\displaystyle{h\\over2}(f(a) + f(b)) = T(f)\n",
    "$$"
   ]
  },
  {
   "cell_type": "markdown",
   "metadata": {},
   "source": [
    "El error esta dado por\n",
    "$$\n",
    "\\int_ {a}^{b} f(x) dx - T(f) = -\\displaystyle{h^3\\over12}(f''(n)), a<n<b\n",
    "$$"
   ]
  },
  {
   "cell_type": "markdown",
   "metadata": {},
   "source": [
    "3. Por último al integrar el polinomio cuadrático que interpola a $f$ en $x = a, x$ = $\\displaystyle{a+b\\over2},$ y $x = b$ se obtiene la regla de Simpson con $h = \\displaystyle{b-a\\over2}$"
   ]
  },
  {
   "cell_type": "markdown",
   "metadata": {},
   "source": [
    "$$\n",
    "    \\int_ {a}^{b} f(x) dx \\approx \\int_ {a}^{b} p_2(x) dx = \\displaystyle{h\\over3}(f(a) + 4f(a + b) + f(b)) = S(f)\n",
    "$$"
   ]
  },
  {
   "cell_type": "markdown",
   "metadata": {},
   "source": [
    "El error que se comete al usar Simpson es \n",
    "$$\n",
    "\\int_ {a}^{b} f(x) dx - S(f) = \\displaystyle{h^5\\over90}(f^{(4)}(n)), a<n<b\n",
    "$$"
   ]
  },
  {
   "cell_type": "markdown",
   "metadata": {},
   "source": [
    "## Estudiante 2: Jessica"
   ]
  },
  {
   "cell_type": "markdown",
   "metadata": {},
   "source": [
    "1. La fórmula el rectángulo se obtiene al interpolar a f(x) por medio del polinomio constante $ p_0(x) = f(\\displaystyle{a+b\\over2}). $\n",
    "$$\n",
    "\\int_ {a}^{b} f(x) dx \\approx (b - a)f(\\displaystyle{a+b\\over2}) = R(f)\n",
    "$$"
   ]
  },
  {
   "cell_type": "markdown",
   "metadata": {},
   "source": [
    "2. La fórmula del trapecio se obtiene al interpolar a f por medio de un polinomio lineal $ p_1(x) = \\alpha x + \\beta $ que satisfaga $ f(a) = p_1(a), f(b) = p_1(b). $\n",
    "Determinar el polinomio lineal es equivalente a resolver un sistema de ecuaciones lineales para $\\alpha$ y $\\beta$ cuya solución es \n",
    "\n",
    "$$\n",
    "\\alpha = \\displaystyle{f(b)-f(a)\\over b-a} \\quad \\beta = \\displaystyle{f(b)a-f(a)b\\over b-a}\n",
    "$$"
   ]
  },
  {
   "cell_type": "markdown",
   "metadata": {},
   "source": [
    "Al integrar $ p_1(x) $ en el intervalo $[a,b]$ se obtiene la regla del trapecio con $ h = b - a $\n",
    "$$\n",
    "\\int_ {a}^{b} f(x) dx \\approx \\int_ {a}^{b} p_1(x) dx = \\displaystyle{h\\over2}(f(a) + f(b)) = T(f)\n",
    "$$"
   ]
  },
  {
   "cell_type": "markdown",
   "metadata": {},
   "source": [
    "El error esta dado por\n",
    "$$\n",
    "\\int_ {a}^{b} f(x) dx - T(f) = -\\displaystyle{h^3\\over12}(f''(n)), a<n<b\n",
    "$$"
   ]
  },
  {
   "cell_type": "markdown",
   "metadata": {},
   "source": [
    "3. Por último al integrar el polinomio cuadrático que interpola a $f$ en $x = a, x$ = $\\displaystyle{a+b\\over2},$ y $x = b$ se obtiene la regla de Simpson con $h = \\displaystyle{b-a\\over2}$"
   ]
  },
  {
   "cell_type": "markdown",
   "metadata": {},
   "source": [
    "$$\n",
    "    \\int_ {a}^{b} f(x) dx \\approx \\int_ {a}^{b} p_2(x) dx = \\displaystyle{h\\over3}(f(a) + 4f(a + b) + f(b)) = S(f)\n",
    "$$"
   ]
  },
  {
   "cell_type": "markdown",
   "metadata": {},
   "source": [
    "El error que se comete al usar Simpson es \n",
    "$$\n",
    "\\int_ {a}^{b} f(x) dx - S(f) = \\displaystyle{h^5\\over90}(f^{(4)}(n)), a<n<b\n",
    "$$"
   ]
  },
  {
   "cell_type": "markdown",
   "metadata": {},
   "source": [
    "## Estudiante 1: Paty"
   ]
  },
  {
   "cell_type": "code",
   "execution_count": 1,
   "metadata": {},
   "outputs": [
    {
     "name": "stdout",
     "output_type": "stream",
     "text": [
      "1\n",
      "2\n",
      "3\n",
      "5\n",
      "8\n",
      "13\n",
      "21\n",
      "34\n",
      "55\n",
      "89\n",
      "144\n",
      "233\n",
      "377\n",
      "610\n",
      "987\n",
      "1597\n",
      "2584\n",
      "4181\n",
      "6765\n",
      "10946\n",
      "17711\n",
      "28657\n",
      "46368\n",
      "75025\n",
      "121393\n",
      "196418\n",
      "317811\n",
      "514229\n",
      "832040\n",
      "1346269\n",
      "2178309\n",
      "3524578\n",
      "5702887\n",
      "9227465\n",
      "14930352\n",
      "24157817\n",
      "39088169\n",
      "63245986\n",
      "102334155\n",
      "165580141\n",
      "267914296\n",
      "433494437\n",
      "701408733\n",
      "1134903170\n",
      "1836311903\n",
      "2971215073\n",
      "4807526976\n",
      "7778742049\n",
      "12586269025\n",
      "20365011074\n",
      "32951280099\n",
      "53316291173\n",
      "86267571272\n",
      "139583862445\n",
      "225851433717\n",
      "365435296162\n",
      "591286729879\n",
      "956722026041\n",
      "1548008755920\n",
      "2504730781961\n",
      "4052739537881\n",
      "6557470319842\n",
      "10610209857723\n",
      "17167680177565\n",
      "27777890035288\n",
      "44945570212853\n",
      "72723460248141\n",
      "117669030460994\n",
      "190392490709135\n",
      "308061521170129\n",
      "498454011879264\n",
      "806515533049393\n",
      "1304969544928657\n",
      "2111485077978050\n",
      "3416454622906707\n",
      "5527939700884757\n",
      "8944394323791464\n",
      "14472334024676221\n",
      "23416728348467685\n",
      "37889062373143906\n",
      "61305790721611591\n",
      "99194853094755497\n",
      "160500643816367088\n",
      "259695496911122585\n",
      "420196140727489673\n",
      "679891637638612258\n",
      "1100087778366101931\n",
      "1779979416004714189\n",
      "2880067194370816120\n",
      "4660046610375530309\n",
      "7540113804746346429\n",
      "12200160415121876738\n",
      "19740274219868223167\n",
      "31940434634990099905\n",
      "51680708854858323072\n",
      "83621143489848422977\n",
      "135301852344706746049\n",
      "218922995834555169026\n",
      "354224848179261915075\n",
      "573147844013817084101\n"
     ]
    }
   ],
   "source": [
    "# Sucesión de fibonacci\n",
    "a,b = 0,1\n",
    "for i in range(100):\n",
    "    print(a+b)\n",
    "    a,b = b, a+b"
   ]
  },
  {
   "cell_type": "markdown",
   "metadata": {},
   "source": [
    "## Estudiante 2: Jessica "
   ]
  },
  {
   "cell_type": "code",
   "execution_count": 12,
   "metadata": {},
   "outputs": [
    {
     "name": "stdout",
     "output_type": "stream",
     "text": [
      "[2, 3, 5, 7, 11, 13, 17, 19, 23, 29, 31, 37, 41, 43, 47, 53, 59, 61, 67, 71, 73, 79, 83, 89, 97]\n"
     ]
    }
   ],
   "source": [
    "import math  \n",
    "lista=[2,]  \n",
    "for i in range(3,100, 2):  \n",
    " n=True   \n",
    " for j in range(3,int(math.sqrt(i))+1,2):  \n",
    "  if i%j==0:  \n",
    "   n=False  \n",
    " if n:lista.append(i)  \n",
    "print(lista)\n",
    "\n"
   ]
  },
  {
   "cell_type": "code",
   "execution_count": null,
   "metadata": {},
   "outputs": [],
   "source": []
  }
 ],
 "metadata": {
  "kernelspec": {
   "display_name": "Python 3",
   "language": "python",
   "name": "python3"
  },
  "language_info": {
   "codemirror_mode": {
    "name": "ipython",
    "version": 3
   },
   "file_extension": ".py",
   "mimetype": "text/x-python",
   "name": "python",
   "nbconvert_exporter": "python",
   "pygments_lexer": "ipython3",
   "version": "3.7.1"
  }
 },
 "nbformat": 4,
 "nbformat_minor": 2
}

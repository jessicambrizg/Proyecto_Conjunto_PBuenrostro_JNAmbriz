{
 "cells": [
  {
   "cell_type": "markdown",
   "metadata": {},
   "source": [
    "## _Expectativas del curso_ "
   ]
  },
  {
   "cell_type": "markdown",
   "metadata": {},
   "source": [
    "+ Aprender un nuevo sistema de programación.\n",
    "+ Dominar el manejo de GitKraken, ya que no lo había llevado a profundidad.\n",
    "+ Ser más ágil en la programación.\n",
    "+ Que la clase no se me dificulte como me han dicho que lo es.\n",
    "\n"
   ]
  },
  {
   "cell_type": "markdown",
   "metadata": {},
   "source": [
    "<img style=\"center\" src=\"https://programacion.net/files/article/20160603020635_python-logo.png\" width=\"250px\" height=\"200px\" alt=\"atom\" />"
   ]
  },
  {
   "cell_type": "markdown",
   "metadata": {},
   "source": [
    "## <font color=\"green\">*Python is becoming the world’s most popular coding language*</font>"
   ]
  },
  {
   "cell_type": "markdown",
   "metadata": {},
   "source": [
    "*Python fue creado en 1989*, casi 3 décadas después a derrivado a todos sus rivales.\n",
    "Las dos ventajas principales del lenguaje son su simplicidad y flexibilidad. Su sintaxis directa y el uso de espacios sangrados hacen que sea fácil de aprender, leer y compartir."
   ]
  },
  {
   "cell_type": "markdown",
   "metadata": {},
   "source": [
    "A pesar de ser un programa realmente fuerte, no piensa dejar fuera a ningún software.\n",
    "Python no reemplazará C y C ++, que son \"opciones de nivel inferior\" que dan más control sobre lo que está sucediendo en el procesador de una computadora. Tampoco quiere eliminar a Java, que es popular para crear aplicaciones complicadas, o JavaScript, que alimenta la mayoría de las páginas web."
   ]
  },
  {
   "cell_type": "markdown",
   "metadata": {},
   "source": [
    "En lo personal, python no es realmente fácil, pero gracias a mis profesores he logrado llevarlo acabo."
   ]
  },
  {
   "cell_type": "markdown",
   "metadata": {},
   "source": [
    "<img style=\"center\" src=\"https://www.economist.com/img/b/1280/1401/85/sites/default/files/20180728_WOC883.png\" width=\"400px\" height=\"400px\" alt=\"atom\" />"
   ]
  },
  {
   "cell_type": "markdown",
   "metadata": {},
   "source": [
    "<img style=\"center\" src=\"https://www.tecnoinver.cl/wp-content/uploads/2015/08/Prog-languages.png\" width=\"400px\" height=\"400px\" alt=\"atom\" />"
   ]
  },
  {
   "cell_type": "code",
   "execution_count": null,
   "metadata": {},
   "outputs": [],
   "source": []
  }
 ],
 "metadata": {
  "kernelspec": {
   "display_name": "Python 3",
   "language": "python",
   "name": "python3"
  },
  "language_info": {
   "codemirror_mode": {
    "name": "ipython",
    "version": 3
   },
   "file_extension": ".py",
   "mimetype": "text/x-python",
   "name": "python",
   "nbconvert_exporter": "python",
   "pygments_lexer": "ipython3",
   "version": "3.7.4"
  }
 },
 "nbformat": 4,
 "nbformat_minor": 2
}
